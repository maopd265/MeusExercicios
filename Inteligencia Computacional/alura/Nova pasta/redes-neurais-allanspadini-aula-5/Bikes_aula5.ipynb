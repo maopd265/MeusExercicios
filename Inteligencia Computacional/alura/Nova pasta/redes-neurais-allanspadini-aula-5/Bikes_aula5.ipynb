{
 "cells": [
  {
   "cell_type": "markdown",
   "metadata": {},
   "source": [
    "# A base de dados"
   ]
  },
  {
   "cell_type": "markdown",
   "metadata": {},
   "source": [
    "### Carregando o dataset"
   ]
  },
  {
   "cell_type": "code",
   "execution_count": 1,
   "metadata": {},
   "outputs": [
    {
     "ename": "ModuleNotFoundError",
     "evalue": "No module named 'google'",
     "output_type": "error",
     "traceback": [
      "\u001b[1;31m---------------------------------------------------------------------------\u001b[0m",
      "\u001b[1;31mModuleNotFoundError\u001b[0m                       Traceback (most recent call last)",
      "Cell \u001b[1;32mIn [1], line 1\u001b[0m\n\u001b[1;32m----> 1\u001b[0m \u001b[39mfrom\u001b[39;00m \u001b[39mgoogle\u001b[39;00m\u001b[39m.\u001b[39;00m\u001b[39mcolab\u001b[39;00m \u001b[39mimport\u001b[39;00m files\n\u001b[0;32m      2\u001b[0m files\u001b[39m.\u001b[39mupload()\n",
      "\u001b[1;31mModuleNotFoundError\u001b[0m: No module named 'google'"
     ]
    }
   ],
   "source": [
    "from google.colab import files\n",
    "files.upload()"
   ]
  },
  {
   "cell_type": "code",
   "execution_count": 3,
   "metadata": {},
   "outputs": [],
   "source": [
    "import pandas as pd\n",
    "\n",
    "dados = pd.read_csv('segmentacaoTestAlterado.csv')"
   ]
  },
  {
   "cell_type": "markdown",
   "metadata": {},
   "source": [
    "### Conhecendo a base de dados"
   ]
  },
  {
   "cell_type": "code",
   "execution_count": 4,
   "metadata": {},
   "outputs": [
    {
     "data": {
      "text/html": [
       "<div>\n",
       "<style scoped>\n",
       "    .dataframe tbody tr th:only-of-type {\n",
       "        vertical-align: middle;\n",
       "    }\n",
       "\n",
       "    .dataframe tbody tr th {\n",
       "        vertical-align: top;\n",
       "    }\n",
       "\n",
       "    .dataframe thead th {\n",
       "        text-align: right;\n",
       "    }\n",
       "</style>\n",
       "<table border=\"1\" class=\"dataframe\">\n",
       "  <thead>\n",
       "    <tr style=\"text-align: right;\">\n",
       "      <th></th>\n",
       "      <th>CLASS</th>\n",
       "      <th>REGION-CENTROID-COL</th>\n",
       "      <th>REGION-CENTROID-ROW</th>\n",
       "      <th>REGION-PIXEL-COUNT</th>\n",
       "      <th>SHORT-LINE-DENSITY-5</th>\n",
       "      <th>SHORT-LINE-DENSITY-2</th>\n",
       "      <th>VEDGE-MEAN</th>\n",
       "      <th>VEDGE-SD</th>\n",
       "      <th>HEDGE-MEAN</th>\n",
       "      <th>HEDGE-SD</th>\n",
       "      <th>INTENSITY-MEAN</th>\n",
       "      <th>RAWRED-MEAN</th>\n",
       "      <th>RAWBLUE-MEAN</th>\n",
       "      <th>RAWGREEN-MEAN</th>\n",
       "      <th>EXRED-MEAN</th>\n",
       "      <th>EXBLUE-MEAN</th>\n",
       "      <th>EXGREEN-MEAN</th>\n",
       "      <th>VALUE-MEAN</th>\n",
       "      <th>SATURATION-MEAN</th>\n",
       "      <th>HUE-MEAN</th>\n",
       "    </tr>\n",
       "  </thead>\n",
       "  <tbody>\n",
       "    <tr>\n",
       "      <th>0</th>\n",
       "      <td>GRASS</td>\n",
       "      <td>110.0</td>\n",
       "      <td>189.0</td>\n",
       "      <td>9</td>\n",
       "      <td>0.0</td>\n",
       "      <td>0.0</td>\n",
       "      <td>1.000000</td>\n",
       "      <td>0.666667</td>\n",
       "      <td>1.222222</td>\n",
       "      <td>1.186342</td>\n",
       "      <td>12.925926</td>\n",
       "      <td>10.888889</td>\n",
       "      <td>9.222222</td>\n",
       "      <td>18.666668</td>\n",
       "      <td>-6.111111</td>\n",
       "      <td>-11.111111</td>\n",
       "      <td>17.222221</td>\n",
       "      <td>18.666668</td>\n",
       "      <td>0.508139</td>\n",
       "      <td>1.910864</td>\n",
       "    </tr>\n",
       "    <tr>\n",
       "      <th>1</th>\n",
       "      <td>GRASS</td>\n",
       "      <td>86.0</td>\n",
       "      <td>187.0</td>\n",
       "      <td>9</td>\n",
       "      <td>0.0</td>\n",
       "      <td>0.0</td>\n",
       "      <td>1.111111</td>\n",
       "      <td>0.720082</td>\n",
       "      <td>1.444444</td>\n",
       "      <td>0.750309</td>\n",
       "      <td>13.740741</td>\n",
       "      <td>11.666667</td>\n",
       "      <td>10.333334</td>\n",
       "      <td>19.222221</td>\n",
       "      <td>-6.222222</td>\n",
       "      <td>-10.222222</td>\n",
       "      <td>16.444445</td>\n",
       "      <td>19.222221</td>\n",
       "      <td>0.463329</td>\n",
       "      <td>1.941465</td>\n",
       "    </tr>\n",
       "    <tr>\n",
       "      <th>2</th>\n",
       "      <td>GRASS</td>\n",
       "      <td>225.0</td>\n",
       "      <td>244.0</td>\n",
       "      <td>9</td>\n",
       "      <td>0.0</td>\n",
       "      <td>0.0</td>\n",
       "      <td>3.388889</td>\n",
       "      <td>2.195113</td>\n",
       "      <td>3.000000</td>\n",
       "      <td>1.520234</td>\n",
       "      <td>12.259259</td>\n",
       "      <td>10.333334</td>\n",
       "      <td>9.333334</td>\n",
       "      <td>17.111110</td>\n",
       "      <td>-5.777778</td>\n",
       "      <td>-8.777778</td>\n",
       "      <td>14.555555</td>\n",
       "      <td>17.111110</td>\n",
       "      <td>0.480149</td>\n",
       "      <td>1.987902</td>\n",
       "    </tr>\n",
       "    <tr>\n",
       "      <th>3</th>\n",
       "      <td>GRASS</td>\n",
       "      <td>47.0</td>\n",
       "      <td>232.0</td>\n",
       "      <td>9</td>\n",
       "      <td>0.0</td>\n",
       "      <td>0.0</td>\n",
       "      <td>1.277778</td>\n",
       "      <td>1.254621</td>\n",
       "      <td>1.000000</td>\n",
       "      <td>0.894427</td>\n",
       "      <td>12.703704</td>\n",
       "      <td>11.000000</td>\n",
       "      <td>9.000000</td>\n",
       "      <td>18.111110</td>\n",
       "      <td>-5.111111</td>\n",
       "      <td>-11.111111</td>\n",
       "      <td>16.222221</td>\n",
       "      <td>18.111110</td>\n",
       "      <td>0.500966</td>\n",
       "      <td>1.875362</td>\n",
       "    </tr>\n",
       "    <tr>\n",
       "      <th>4</th>\n",
       "      <td>GRASS</td>\n",
       "      <td>97.0</td>\n",
       "      <td>186.0</td>\n",
       "      <td>9</td>\n",
       "      <td>0.0</td>\n",
       "      <td>0.0</td>\n",
       "      <td>1.166667</td>\n",
       "      <td>0.691215</td>\n",
       "      <td>1.166667</td>\n",
       "      <td>1.005540</td>\n",
       "      <td>15.592592</td>\n",
       "      <td>13.888889</td>\n",
       "      <td>11.777778</td>\n",
       "      <td>21.111110</td>\n",
       "      <td>-5.111111</td>\n",
       "      <td>-11.444445</td>\n",
       "      <td>16.555555</td>\n",
       "      <td>21.111110</td>\n",
       "      <td>0.442661</td>\n",
       "      <td>1.863654</td>\n",
       "    </tr>\n",
       "  </tbody>\n",
       "</table>\n",
       "</div>"
      ],
      "text/plain": [
       "   CLASS  REGION-CENTROID-COL  REGION-CENTROID-ROW  REGION-PIXEL-COUNT  \\\n",
       "0  GRASS                110.0                189.0                   9   \n",
       "1  GRASS                 86.0                187.0                   9   \n",
       "2  GRASS                225.0                244.0                   9   \n",
       "3  GRASS                 47.0                232.0                   9   \n",
       "4  GRASS                 97.0                186.0                   9   \n",
       "\n",
       "   SHORT-LINE-DENSITY-5  SHORT-LINE-DENSITY-2  VEDGE-MEAN  VEDGE-SD  \\\n",
       "0                   0.0                   0.0    1.000000  0.666667   \n",
       "1                   0.0                   0.0    1.111111  0.720082   \n",
       "2                   0.0                   0.0    3.388889  2.195113   \n",
       "3                   0.0                   0.0    1.277778  1.254621   \n",
       "4                   0.0                   0.0    1.166667  0.691215   \n",
       "\n",
       "   HEDGE-MEAN  HEDGE-SD  INTENSITY-MEAN  RAWRED-MEAN  RAWBLUE-MEAN  \\\n",
       "0    1.222222  1.186342       12.925926    10.888889      9.222222   \n",
       "1    1.444444  0.750309       13.740741    11.666667     10.333334   \n",
       "2    3.000000  1.520234       12.259259    10.333334      9.333334   \n",
       "3    1.000000  0.894427       12.703704    11.000000      9.000000   \n",
       "4    1.166667  1.005540       15.592592    13.888889     11.777778   \n",
       "\n",
       "   RAWGREEN-MEAN  EXRED-MEAN  EXBLUE-MEAN  EXGREEN-MEAN  VALUE-MEAN  \\\n",
       "0      18.666668   -6.111111   -11.111111     17.222221   18.666668   \n",
       "1      19.222221   -6.222222   -10.222222     16.444445   19.222221   \n",
       "2      17.111110   -5.777778    -8.777778     14.555555   17.111110   \n",
       "3      18.111110   -5.111111   -11.111111     16.222221   18.111110   \n",
       "4      21.111110   -5.111111   -11.444445     16.555555   21.111110   \n",
       "\n",
       "   SATURATION-MEAN  HUE-MEAN  \n",
       "0         0.508139  1.910864  \n",
       "1         0.463329  1.941465  \n",
       "2         0.480149  1.987902  \n",
       "3         0.500966  1.875362  \n",
       "4         0.442661  1.863654  "
      ]
     },
     "execution_count": 4,
     "metadata": {},
     "output_type": "execute_result"
    }
   ],
   "source": [
    "dados.head()"
   ]
  },
  {
   "cell_type": "code",
   "execution_count": 5,
   "metadata": {},
   "outputs": [
    {
     "data": {
      "text/plain": [
       "(2100, 20)"
      ]
     },
     "execution_count": 5,
     "metadata": {},
     "output_type": "execute_result"
    }
   ],
   "source": [
    "dados.shape"
   ]
  },
  {
   "cell_type": "code",
   "execution_count": 6,
   "metadata": {},
   "outputs": [],
   "source": [
    "dados_copia = dados.copy()"
   ]
  },
  {
   "cell_type": "markdown",
   "metadata": {},
   "source": [
    "# TRANSFORMAÇÃO DA COLUNA CLASS"
   ]
  },
  {
   "cell_type": "markdown",
   "metadata": {},
   "source": [
    "# NORMALIZAÇÃO\n"
   ]
  },
  {
   "cell_type": "code",
   "execution_count": 7,
   "metadata": {},
   "outputs": [
    {
     "name": "stdout",
     "output_type": "stream",
     "text": [
      "{'SKY', 'WINDOW', 'FOLIAGE', 'CEMENT', 'PATH', 'BRICKFACE', 'GRASS'}\n",
      "{'SKY': 0, 'WINDOW': 1, 'FOLIAGE': 2, 'CEMENT': 3, 'PATH': 4, 'BRICKFACE': 5, 'GRASS': 6}\n"
     ]
    },
    {
     "data": {
      "text/html": [
       "<div>\n",
       "<style scoped>\n",
       "    .dataframe tbody tr th:only-of-type {\n",
       "        vertical-align: middle;\n",
       "    }\n",
       "\n",
       "    .dataframe tbody tr th {\n",
       "        vertical-align: top;\n",
       "    }\n",
       "\n",
       "    .dataframe thead th {\n",
       "        text-align: right;\n",
       "    }\n",
       "</style>\n",
       "<table border=\"1\" class=\"dataframe\">\n",
       "  <thead>\n",
       "    <tr style=\"text-align: right;\">\n",
       "      <th></th>\n",
       "      <th>CLASS</th>\n",
       "      <th>REGION-CENTROID-COL</th>\n",
       "      <th>REGION-CENTROID-ROW</th>\n",
       "      <th>REGION-PIXEL-COUNT</th>\n",
       "      <th>SHORT-LINE-DENSITY-5</th>\n",
       "      <th>SHORT-LINE-DENSITY-2</th>\n",
       "      <th>VEDGE-MEAN</th>\n",
       "      <th>VEDGE-SD</th>\n",
       "      <th>HEDGE-MEAN</th>\n",
       "      <th>HEDGE-SD</th>\n",
       "      <th>INTENSITY-MEAN</th>\n",
       "      <th>RAWRED-MEAN</th>\n",
       "      <th>RAWBLUE-MEAN</th>\n",
       "      <th>RAWGREEN-MEAN</th>\n",
       "      <th>EXRED-MEAN</th>\n",
       "      <th>EXBLUE-MEAN</th>\n",
       "      <th>EXGREEN-MEAN</th>\n",
       "      <th>VALUE-MEAN</th>\n",
       "      <th>SATURATION-MEAN</th>\n",
       "      <th>HUE-MEAN</th>\n",
       "    </tr>\n",
       "  </thead>\n",
       "  <tbody>\n",
       "    <tr>\n",
       "      <th>0</th>\n",
       "      <td>6</td>\n",
       "      <td>110.0</td>\n",
       "      <td>189.0</td>\n",
       "      <td>9</td>\n",
       "      <td>0.0</td>\n",
       "      <td>0.0</td>\n",
       "      <td>1.000000</td>\n",
       "      <td>0.666667</td>\n",
       "      <td>1.222222</td>\n",
       "      <td>1.186342</td>\n",
       "      <td>12.925926</td>\n",
       "      <td>10.888889</td>\n",
       "      <td>9.222222</td>\n",
       "      <td>18.666668</td>\n",
       "      <td>-6.111111</td>\n",
       "      <td>-11.111111</td>\n",
       "      <td>17.222221</td>\n",
       "      <td>18.666668</td>\n",
       "      <td>0.508139</td>\n",
       "      <td>1.910864</td>\n",
       "    </tr>\n",
       "    <tr>\n",
       "      <th>1</th>\n",
       "      <td>6</td>\n",
       "      <td>86.0</td>\n",
       "      <td>187.0</td>\n",
       "      <td>9</td>\n",
       "      <td>0.0</td>\n",
       "      <td>0.0</td>\n",
       "      <td>1.111111</td>\n",
       "      <td>0.720082</td>\n",
       "      <td>1.444444</td>\n",
       "      <td>0.750309</td>\n",
       "      <td>13.740741</td>\n",
       "      <td>11.666667</td>\n",
       "      <td>10.333334</td>\n",
       "      <td>19.222221</td>\n",
       "      <td>-6.222222</td>\n",
       "      <td>-10.222222</td>\n",
       "      <td>16.444445</td>\n",
       "      <td>19.222221</td>\n",
       "      <td>0.463329</td>\n",
       "      <td>1.941465</td>\n",
       "    </tr>\n",
       "    <tr>\n",
       "      <th>2</th>\n",
       "      <td>6</td>\n",
       "      <td>225.0</td>\n",
       "      <td>244.0</td>\n",
       "      <td>9</td>\n",
       "      <td>0.0</td>\n",
       "      <td>0.0</td>\n",
       "      <td>3.388889</td>\n",
       "      <td>2.195113</td>\n",
       "      <td>3.000000</td>\n",
       "      <td>1.520234</td>\n",
       "      <td>12.259259</td>\n",
       "      <td>10.333334</td>\n",
       "      <td>9.333334</td>\n",
       "      <td>17.111110</td>\n",
       "      <td>-5.777778</td>\n",
       "      <td>-8.777778</td>\n",
       "      <td>14.555555</td>\n",
       "      <td>17.111110</td>\n",
       "      <td>0.480149</td>\n",
       "      <td>1.987902</td>\n",
       "    </tr>\n",
       "    <tr>\n",
       "      <th>3</th>\n",
       "      <td>6</td>\n",
       "      <td>47.0</td>\n",
       "      <td>232.0</td>\n",
       "      <td>9</td>\n",
       "      <td>0.0</td>\n",
       "      <td>0.0</td>\n",
       "      <td>1.277778</td>\n",
       "      <td>1.254621</td>\n",
       "      <td>1.000000</td>\n",
       "      <td>0.894427</td>\n",
       "      <td>12.703704</td>\n",
       "      <td>11.000000</td>\n",
       "      <td>9.000000</td>\n",
       "      <td>18.111110</td>\n",
       "      <td>-5.111111</td>\n",
       "      <td>-11.111111</td>\n",
       "      <td>16.222221</td>\n",
       "      <td>18.111110</td>\n",
       "      <td>0.500966</td>\n",
       "      <td>1.875362</td>\n",
       "    </tr>\n",
       "    <tr>\n",
       "      <th>4</th>\n",
       "      <td>6</td>\n",
       "      <td>97.0</td>\n",
       "      <td>186.0</td>\n",
       "      <td>9</td>\n",
       "      <td>0.0</td>\n",
       "      <td>0.0</td>\n",
       "      <td>1.166667</td>\n",
       "      <td>0.691215</td>\n",
       "      <td>1.166667</td>\n",
       "      <td>1.005540</td>\n",
       "      <td>15.592592</td>\n",
       "      <td>13.888889</td>\n",
       "      <td>11.777778</td>\n",
       "      <td>21.111110</td>\n",
       "      <td>-5.111111</td>\n",
       "      <td>-11.444445</td>\n",
       "      <td>16.555555</td>\n",
       "      <td>21.111110</td>\n",
       "      <td>0.442661</td>\n",
       "      <td>1.863654</td>\n",
       "    </tr>\n",
       "  </tbody>\n",
       "</table>\n",
       "</div>"
      ],
      "text/plain": [
       "   CLASS  REGION-CENTROID-COL  REGION-CENTROID-ROW  REGION-PIXEL-COUNT  \\\n",
       "0      6                110.0                189.0                   9   \n",
       "1      6                 86.0                187.0                   9   \n",
       "2      6                225.0                244.0                   9   \n",
       "3      6                 47.0                232.0                   9   \n",
       "4      6                 97.0                186.0                   9   \n",
       "\n",
       "   SHORT-LINE-DENSITY-5  SHORT-LINE-DENSITY-2  VEDGE-MEAN  VEDGE-SD  \\\n",
       "0                   0.0                   0.0    1.000000  0.666667   \n",
       "1                   0.0                   0.0    1.111111  0.720082   \n",
       "2                   0.0                   0.0    3.388889  2.195113   \n",
       "3                   0.0                   0.0    1.277778  1.254621   \n",
       "4                   0.0                   0.0    1.166667  0.691215   \n",
       "\n",
       "   HEDGE-MEAN  HEDGE-SD  INTENSITY-MEAN  RAWRED-MEAN  RAWBLUE-MEAN  \\\n",
       "0    1.222222  1.186342       12.925926    10.888889      9.222222   \n",
       "1    1.444444  0.750309       13.740741    11.666667     10.333334   \n",
       "2    3.000000  1.520234       12.259259    10.333334      9.333334   \n",
       "3    1.000000  0.894427       12.703704    11.000000      9.000000   \n",
       "4    1.166667  1.005540       15.592592    13.888889     11.777778   \n",
       "\n",
       "   RAWGREEN-MEAN  EXRED-MEAN  EXBLUE-MEAN  EXGREEN-MEAN  VALUE-MEAN  \\\n",
       "0      18.666668   -6.111111   -11.111111     17.222221   18.666668   \n",
       "1      19.222221   -6.222222   -10.222222     16.444445   19.222221   \n",
       "2      17.111110   -5.777778    -8.777778     14.555555   17.111110   \n",
       "3      18.111110   -5.111111   -11.111111     16.222221   18.111110   \n",
       "4      21.111110   -5.111111   -11.444445     16.555555   21.111110   \n",
       "\n",
       "   SATURATION-MEAN  HUE-MEAN  \n",
       "0         0.508139  1.910864  \n",
       "1         0.463329  1.941465  \n",
       "2         0.480149  1.987902  \n",
       "3         0.500966  1.875362  \n",
       "4         0.442661  1.863654  "
      ]
     },
     "metadata": {},
     "output_type": "display_data"
    },
    {
     "data": {
      "text/html": [
       "<div>\n",
       "<style scoped>\n",
       "    .dataframe tbody tr th:only-of-type {\n",
       "        vertical-align: middle;\n",
       "    }\n",
       "\n",
       "    .dataframe tbody tr th {\n",
       "        vertical-align: top;\n",
       "    }\n",
       "\n",
       "    .dataframe thead th {\n",
       "        text-align: right;\n",
       "    }\n",
       "</style>\n",
       "<table border=\"1\" class=\"dataframe\">\n",
       "  <thead>\n",
       "    <tr style=\"text-align: right;\">\n",
       "      <th></th>\n",
       "      <th>CLASS</th>\n",
       "      <th>REGION-CENTROID-COL</th>\n",
       "      <th>REGION-CENTROID-ROW</th>\n",
       "      <th>REGION-PIXEL-COUNT</th>\n",
       "      <th>SHORT-LINE-DENSITY-5</th>\n",
       "      <th>SHORT-LINE-DENSITY-2</th>\n",
       "      <th>VEDGE-MEAN</th>\n",
       "      <th>VEDGE-SD</th>\n",
       "      <th>HEDGE-MEAN</th>\n",
       "      <th>HEDGE-SD</th>\n",
       "      <th>INTENSITY-MEAN</th>\n",
       "      <th>RAWRED-MEAN</th>\n",
       "      <th>RAWBLUE-MEAN</th>\n",
       "      <th>RAWGREEN-MEAN</th>\n",
       "      <th>EXRED-MEAN</th>\n",
       "      <th>EXBLUE-MEAN</th>\n",
       "      <th>EXGREEN-MEAN</th>\n",
       "      <th>VALUE-MEAN</th>\n",
       "      <th>SATURATION-MEAN</th>\n",
       "      <th>HUE-MEAN</th>\n",
       "    </tr>\n",
       "  </thead>\n",
       "  <tbody>\n",
       "    <tr>\n",
       "      <th>0</th>\n",
       "      <td>GRASS</td>\n",
       "      <td>110.0</td>\n",
       "      <td>189.0</td>\n",
       "      <td>9</td>\n",
       "      <td>0.0</td>\n",
       "      <td>0.0</td>\n",
       "      <td>1.000000</td>\n",
       "      <td>0.666667</td>\n",
       "      <td>1.222222</td>\n",
       "      <td>1.186342</td>\n",
       "      <td>12.925926</td>\n",
       "      <td>10.888889</td>\n",
       "      <td>9.222222</td>\n",
       "      <td>18.666668</td>\n",
       "      <td>-6.111111</td>\n",
       "      <td>-11.111111</td>\n",
       "      <td>17.222221</td>\n",
       "      <td>18.666668</td>\n",
       "      <td>0.508139</td>\n",
       "      <td>1.910864</td>\n",
       "    </tr>\n",
       "    <tr>\n",
       "      <th>1</th>\n",
       "      <td>GRASS</td>\n",
       "      <td>86.0</td>\n",
       "      <td>187.0</td>\n",
       "      <td>9</td>\n",
       "      <td>0.0</td>\n",
       "      <td>0.0</td>\n",
       "      <td>1.111111</td>\n",
       "      <td>0.720082</td>\n",
       "      <td>1.444444</td>\n",
       "      <td>0.750309</td>\n",
       "      <td>13.740741</td>\n",
       "      <td>11.666667</td>\n",
       "      <td>10.333334</td>\n",
       "      <td>19.222221</td>\n",
       "      <td>-6.222222</td>\n",
       "      <td>-10.222222</td>\n",
       "      <td>16.444445</td>\n",
       "      <td>19.222221</td>\n",
       "      <td>0.463329</td>\n",
       "      <td>1.941465</td>\n",
       "    </tr>\n",
       "    <tr>\n",
       "      <th>2</th>\n",
       "      <td>GRASS</td>\n",
       "      <td>225.0</td>\n",
       "      <td>244.0</td>\n",
       "      <td>9</td>\n",
       "      <td>0.0</td>\n",
       "      <td>0.0</td>\n",
       "      <td>3.388889</td>\n",
       "      <td>2.195113</td>\n",
       "      <td>3.000000</td>\n",
       "      <td>1.520234</td>\n",
       "      <td>12.259259</td>\n",
       "      <td>10.333334</td>\n",
       "      <td>9.333334</td>\n",
       "      <td>17.111110</td>\n",
       "      <td>-5.777778</td>\n",
       "      <td>-8.777778</td>\n",
       "      <td>14.555555</td>\n",
       "      <td>17.111110</td>\n",
       "      <td>0.480149</td>\n",
       "      <td>1.987902</td>\n",
       "    </tr>\n",
       "    <tr>\n",
       "      <th>3</th>\n",
       "      <td>GRASS</td>\n",
       "      <td>47.0</td>\n",
       "      <td>232.0</td>\n",
       "      <td>9</td>\n",
       "      <td>0.0</td>\n",
       "      <td>0.0</td>\n",
       "      <td>1.277778</td>\n",
       "      <td>1.254621</td>\n",
       "      <td>1.000000</td>\n",
       "      <td>0.894427</td>\n",
       "      <td>12.703704</td>\n",
       "      <td>11.000000</td>\n",
       "      <td>9.000000</td>\n",
       "      <td>18.111110</td>\n",
       "      <td>-5.111111</td>\n",
       "      <td>-11.111111</td>\n",
       "      <td>16.222221</td>\n",
       "      <td>18.111110</td>\n",
       "      <td>0.500966</td>\n",
       "      <td>1.875362</td>\n",
       "    </tr>\n",
       "    <tr>\n",
       "      <th>4</th>\n",
       "      <td>GRASS</td>\n",
       "      <td>97.0</td>\n",
       "      <td>186.0</td>\n",
       "      <td>9</td>\n",
       "      <td>0.0</td>\n",
       "      <td>0.0</td>\n",
       "      <td>1.166667</td>\n",
       "      <td>0.691215</td>\n",
       "      <td>1.166667</td>\n",
       "      <td>1.005540</td>\n",
       "      <td>15.592592</td>\n",
       "      <td>13.888889</td>\n",
       "      <td>11.777778</td>\n",
       "      <td>21.111110</td>\n",
       "      <td>-5.111111</td>\n",
       "      <td>-11.444445</td>\n",
       "      <td>16.555555</td>\n",
       "      <td>21.111110</td>\n",
       "      <td>0.442661</td>\n",
       "      <td>1.863654</td>\n",
       "    </tr>\n",
       "  </tbody>\n",
       "</table>\n",
       "</div>"
      ],
      "text/plain": [
       "   CLASS  REGION-CENTROID-COL  REGION-CENTROID-ROW  REGION-PIXEL-COUNT  \\\n",
       "0  GRASS                110.0                189.0                   9   \n",
       "1  GRASS                 86.0                187.0                   9   \n",
       "2  GRASS                225.0                244.0                   9   \n",
       "3  GRASS                 47.0                232.0                   9   \n",
       "4  GRASS                 97.0                186.0                   9   \n",
       "\n",
       "   SHORT-LINE-DENSITY-5  SHORT-LINE-DENSITY-2  VEDGE-MEAN  VEDGE-SD  \\\n",
       "0                   0.0                   0.0    1.000000  0.666667   \n",
       "1                   0.0                   0.0    1.111111  0.720082   \n",
       "2                   0.0                   0.0    3.388889  2.195113   \n",
       "3                   0.0                   0.0    1.277778  1.254621   \n",
       "4                   0.0                   0.0    1.166667  0.691215   \n",
       "\n",
       "   HEDGE-MEAN  HEDGE-SD  INTENSITY-MEAN  RAWRED-MEAN  RAWBLUE-MEAN  \\\n",
       "0    1.222222  1.186342       12.925926    10.888889      9.222222   \n",
       "1    1.444444  0.750309       13.740741    11.666667     10.333334   \n",
       "2    3.000000  1.520234       12.259259    10.333334      9.333334   \n",
       "3    1.000000  0.894427       12.703704    11.000000      9.000000   \n",
       "4    1.166667  1.005540       15.592592    13.888889     11.777778   \n",
       "\n",
       "   RAWGREEN-MEAN  EXRED-MEAN  EXBLUE-MEAN  EXGREEN-MEAN  VALUE-MEAN  \\\n",
       "0      18.666668   -6.111111   -11.111111     17.222221   18.666668   \n",
       "1      19.222221   -6.222222   -10.222222     16.444445   19.222221   \n",
       "2      17.111110   -5.777778    -8.777778     14.555555   17.111110   \n",
       "3      18.111110   -5.111111   -11.111111     16.222221   18.111110   \n",
       "4      21.111110   -5.111111   -11.444445     16.555555   21.111110   \n",
       "\n",
       "   SATURATION-MEAN  HUE-MEAN  \n",
       "0         0.508139  1.910864  \n",
       "1         0.463329  1.941465  \n",
       "2         0.480149  1.987902  \n",
       "3         0.500966  1.875362  \n",
       "4         0.442661  1.863654  "
      ]
     },
     "metadata": {},
     "output_type": "display_data"
    }
   ],
   "source": [
    "def index_of_dic(dic, key):\n",
    "    return dic[key]\n",
    "\n",
    "def StrList_to_UniqueIndexList(lista):\n",
    "    group = set(lista)\n",
    "    print(group)\n",
    "    \n",
    "    dic = {}\n",
    "    i = 0\n",
    "    for g in group:\n",
    "        if g not in dic:\n",
    "            dic[g] = i\n",
    "            i += 1\n",
    "\n",
    "    print(dic)\n",
    "    return [index_of_dic(dic, p) for p in lista]\n",
    "\n",
    "\n",
    "dados_copia['CLASS'] = StrList_to_UniqueIndexList(dados_copia['CLASS'])\n",
    "\n",
    "\n",
    "\n",
    "display(dados_copia.head(5))\n",
    "display(dados.head(5))"
   ]
  },
  {
   "cell_type": "code",
   "execution_count": 8,
   "metadata": {},
   "outputs": [],
   "source": [
    "from sklearn.preprocessing import MinMaxScaler"
   ]
  },
  {
   "cell_type": "code",
   "execution_count": 9,
   "metadata": {},
   "outputs": [],
   "source": [
    "scaler = MinMaxScaler ()"
   ]
  },
  {
   "cell_type": "code",
   "execution_count": 10,
   "metadata": {},
   "outputs": [],
   "source": [
    "scaler.fit(dados_copia)\n",
    "scaled_features = scaler.transform(dados_copia)\n",
    "#Converter para o formato de tabela - MinMaxScaler\n",
    "df_MinMax = pd.DataFrame (data = scaled_features, columns = [\"CLASS\",\"REGION-CENTROID-COL\",\"REGION-CENTROID-ROW\",\"REGION-PIXEL-COUNT\",\"SHORT-LINE-DENSITY-5\",\"SHORT-LINE-DENSITY-2\",\"VEDGE-MEAN\",\"VEDGE-SD\",\"HEDGE-MEAN\",\"HEDGE-SD\",\"INTENSITY-MEAN\",\"RAWRED-MEAN\",\"RAWBLUE-MEAN\",\"RAWGREEN-MEAN\",\"EXRED-MEAN\",\"EXBLUE-MEAN\",\"EXGREEN-MEAN\",\"VALUE-MEAN\",\"SATURATION-MEAN\",\"HUE-MEAN\"])\n"
   ]
  },
  {
   "cell_type": "code",
   "execution_count": 11,
   "metadata": {},
   "outputs": [
    {
     "data": {
      "text/html": [
       "<div>\n",
       "<style scoped>\n",
       "    .dataframe tbody tr th:only-of-type {\n",
       "        vertical-align: middle;\n",
       "    }\n",
       "\n",
       "    .dataframe tbody tr th {\n",
       "        vertical-align: top;\n",
       "    }\n",
       "\n",
       "    .dataframe thead th {\n",
       "        text-align: right;\n",
       "    }\n",
       "</style>\n",
       "<table border=\"1\" class=\"dataframe\">\n",
       "  <thead>\n",
       "    <tr style=\"text-align: right;\">\n",
       "      <th></th>\n",
       "      <th>CLASS</th>\n",
       "      <th>REGION-CENTROID-COL</th>\n",
       "      <th>REGION-CENTROID-ROW</th>\n",
       "      <th>REGION-PIXEL-COUNT</th>\n",
       "      <th>SHORT-LINE-DENSITY-5</th>\n",
       "      <th>SHORT-LINE-DENSITY-2</th>\n",
       "      <th>VEDGE-MEAN</th>\n",
       "      <th>VEDGE-SD</th>\n",
       "      <th>HEDGE-MEAN</th>\n",
       "      <th>HEDGE-SD</th>\n",
       "      <th>INTENSITY-MEAN</th>\n",
       "      <th>RAWRED-MEAN</th>\n",
       "      <th>RAWBLUE-MEAN</th>\n",
       "      <th>RAWGREEN-MEAN</th>\n",
       "      <th>EXRED-MEAN</th>\n",
       "      <th>EXBLUE-MEAN</th>\n",
       "      <th>EXGREEN-MEAN</th>\n",
       "      <th>VALUE-MEAN</th>\n",
       "      <th>SATURATION-MEAN</th>\n",
       "      <th>HUE-MEAN</th>\n",
       "    </tr>\n",
       "  </thead>\n",
       "  <tbody>\n",
       "    <tr>\n",
       "      <th>0</th>\n",
       "      <td>1.0</td>\n",
       "      <td>0.430830</td>\n",
       "      <td>0.741667</td>\n",
       "      <td>0.0</td>\n",
       "      <td>0.000000</td>\n",
       "      <td>0.0</td>\n",
       "      <td>0.034221</td>\n",
       "      <td>0.000672</td>\n",
       "      <td>0.027329</td>\n",
       "      <td>0.000856</td>\n",
       "      <td>0.090111</td>\n",
       "      <td>0.079417</td>\n",
       "      <td>0.061119</td>\n",
       "      <td>0.130943</td>\n",
       "      <td>0.731343</td>\n",
       "      <td>0.014118</td>\n",
       "      <td>0.872865</td>\n",
       "      <td>0.123711</td>\n",
       "      <td>0.508139</td>\n",
       "      <td>0.831849</td>\n",
       "    </tr>\n",
       "    <tr>\n",
       "      <th>1</th>\n",
       "      <td>1.0</td>\n",
       "      <td>0.335968</td>\n",
       "      <td>0.733333</td>\n",
       "      <td>0.0</td>\n",
       "      <td>0.000000</td>\n",
       "      <td>0.0</td>\n",
       "      <td>0.038023</td>\n",
       "      <td>0.000726</td>\n",
       "      <td>0.032298</td>\n",
       "      <td>0.000541</td>\n",
       "      <td>0.095791</td>\n",
       "      <td>0.085089</td>\n",
       "      <td>0.068483</td>\n",
       "      <td>0.134840</td>\n",
       "      <td>0.729478</td>\n",
       "      <td>0.023529</td>\n",
       "      <td>0.859583</td>\n",
       "      <td>0.127393</td>\n",
       "      <td>0.463329</td>\n",
       "      <td>0.836986</td>\n",
       "    </tr>\n",
       "    <tr>\n",
       "      <th>2</th>\n",
       "      <td>1.0</td>\n",
       "      <td>0.885375</td>\n",
       "      <td>0.970833</td>\n",
       "      <td>0.0</td>\n",
       "      <td>0.000000</td>\n",
       "      <td>0.0</td>\n",
       "      <td>0.115970</td>\n",
       "      <td>0.002213</td>\n",
       "      <td>0.067081</td>\n",
       "      <td>0.001097</td>\n",
       "      <td>0.085463</td>\n",
       "      <td>0.075365</td>\n",
       "      <td>0.061856</td>\n",
       "      <td>0.120031</td>\n",
       "      <td>0.736940</td>\n",
       "      <td>0.038824</td>\n",
       "      <td>0.827324</td>\n",
       "      <td>0.113402</td>\n",
       "      <td>0.480149</td>\n",
       "      <td>0.844782</td>\n",
       "    </tr>\n",
       "    <tr>\n",
       "      <th>3</th>\n",
       "      <td>1.0</td>\n",
       "      <td>0.181818</td>\n",
       "      <td>0.920833</td>\n",
       "      <td>0.0</td>\n",
       "      <td>0.000000</td>\n",
       "      <td>0.0</td>\n",
       "      <td>0.043726</td>\n",
       "      <td>0.001265</td>\n",
       "      <td>0.022360</td>\n",
       "      <td>0.000645</td>\n",
       "      <td>0.088562</td>\n",
       "      <td>0.080227</td>\n",
       "      <td>0.059647</td>\n",
       "      <td>0.127046</td>\n",
       "      <td>0.748134</td>\n",
       "      <td>0.014118</td>\n",
       "      <td>0.855787</td>\n",
       "      <td>0.120029</td>\n",
       "      <td>0.500966</td>\n",
       "      <td>0.825889</td>\n",
       "    </tr>\n",
       "    <tr>\n",
       "      <th>4</th>\n",
       "      <td>1.0</td>\n",
       "      <td>0.379447</td>\n",
       "      <td>0.729167</td>\n",
       "      <td>0.0</td>\n",
       "      <td>0.000000</td>\n",
       "      <td>0.0</td>\n",
       "      <td>0.039924</td>\n",
       "      <td>0.000697</td>\n",
       "      <td>0.026087</td>\n",
       "      <td>0.000725</td>\n",
       "      <td>0.108701</td>\n",
       "      <td>0.101297</td>\n",
       "      <td>0.078056</td>\n",
       "      <td>0.148090</td>\n",
       "      <td>0.748134</td>\n",
       "      <td>0.010588</td>\n",
       "      <td>0.861480</td>\n",
       "      <td>0.139912</td>\n",
       "      <td>0.442661</td>\n",
       "      <td>0.823924</td>\n",
       "    </tr>\n",
       "    <tr>\n",
       "      <th>...</th>\n",
       "      <td>...</td>\n",
       "      <td>...</td>\n",
       "      <td>...</td>\n",
       "      <td>...</td>\n",
       "      <td>...</td>\n",
       "      <td>...</td>\n",
       "      <td>...</td>\n",
       "      <td>...</td>\n",
       "      <td>...</td>\n",
       "      <td>...</td>\n",
       "      <td>...</td>\n",
       "      <td>...</td>\n",
       "      <td>...</td>\n",
       "      <td>...</td>\n",
       "      <td>...</td>\n",
       "      <td>...</td>\n",
       "      <td>...</td>\n",
       "      <td>...</td>\n",
       "      <td>...</td>\n",
       "      <td>...</td>\n",
       "    </tr>\n",
       "    <tr>\n",
       "      <th>2095</th>\n",
       "      <td>0.5</td>\n",
       "      <td>0.122530</td>\n",
       "      <td>0.612500</td>\n",
       "      <td>0.0</td>\n",
       "      <td>0.000000</td>\n",
       "      <td>0.0</td>\n",
       "      <td>0.032319</td>\n",
       "      <td>0.000870</td>\n",
       "      <td>0.018634</td>\n",
       "      <td>0.000441</td>\n",
       "      <td>0.055513</td>\n",
       "      <td>0.046191</td>\n",
       "      <td>0.078792</td>\n",
       "      <td>0.039751</td>\n",
       "      <td>0.751866</td>\n",
       "      <td>0.256471</td>\n",
       "      <td>0.461101</td>\n",
       "      <td>0.078792</td>\n",
       "      <td>0.520578</td>\n",
       "      <td>0.178177</td>\n",
       "    </tr>\n",
       "    <tr>\n",
       "      <th>2096</th>\n",
       "      <td>0.5</td>\n",
       "      <td>0.027668</td>\n",
       "      <td>0.629167</td>\n",
       "      <td>0.0</td>\n",
       "      <td>0.333333</td>\n",
       "      <td>0.0</td>\n",
       "      <td>0.055133</td>\n",
       "      <td>0.002080</td>\n",
       "      <td>0.007453</td>\n",
       "      <td>0.000096</td>\n",
       "      <td>0.058353</td>\n",
       "      <td>0.048622</td>\n",
       "      <td>0.079529</td>\n",
       "      <td>0.045207</td>\n",
       "      <td>0.748134</td>\n",
       "      <td>0.247059</td>\n",
       "      <td>0.480076</td>\n",
       "      <td>0.079529</td>\n",
       "      <td>0.484805</td>\n",
       "      <td>0.167750</td>\n",
       "    </tr>\n",
       "    <tr>\n",
       "      <th>2097</th>\n",
       "      <td>0.5</td>\n",
       "      <td>0.501976</td>\n",
       "      <td>0.625000</td>\n",
       "      <td>0.0</td>\n",
       "      <td>0.000000</td>\n",
       "      <td>0.0</td>\n",
       "      <td>0.019011</td>\n",
       "      <td>0.000254</td>\n",
       "      <td>0.017391</td>\n",
       "      <td>0.000118</td>\n",
       "      <td>0.049832</td>\n",
       "      <td>0.040519</td>\n",
       "      <td>0.072165</td>\n",
       "      <td>0.035074</td>\n",
       "      <td>0.753731</td>\n",
       "      <td>0.250588</td>\n",
       "      <td>0.468691</td>\n",
       "      <td>0.072165</td>\n",
       "      <td>0.540918</td>\n",
       "      <td>0.175915</td>\n",
       "    </tr>\n",
       "    <tr>\n",
       "      <th>2098</th>\n",
       "      <td>0.5</td>\n",
       "      <td>0.588933</td>\n",
       "      <td>0.612500</td>\n",
       "      <td>0.0</td>\n",
       "      <td>0.000000</td>\n",
       "      <td>0.0</td>\n",
       "      <td>0.074145</td>\n",
       "      <td>0.001647</td>\n",
       "      <td>0.031056</td>\n",
       "      <td>0.000302</td>\n",
       "      <td>0.058869</td>\n",
       "      <td>0.051053</td>\n",
       "      <td>0.081001</td>\n",
       "      <td>0.042868</td>\n",
       "      <td>0.761194</td>\n",
       "      <td>0.251765</td>\n",
       "      <td>0.459203</td>\n",
       "      <td>0.081001</td>\n",
       "      <td>0.503086</td>\n",
       "      <td>0.184789</td>\n",
       "    </tr>\n",
       "    <tr>\n",
       "      <th>2099</th>\n",
       "      <td>0.5</td>\n",
       "      <td>0.486166</td>\n",
       "      <td>0.629167</td>\n",
       "      <td>0.0</td>\n",
       "      <td>0.333333</td>\n",
       "      <td>0.0</td>\n",
       "      <td>0.047529</td>\n",
       "      <td>0.001139</td>\n",
       "      <td>0.044720</td>\n",
       "      <td>0.000641</td>\n",
       "      <td>0.069972</td>\n",
       "      <td>0.058347</td>\n",
       "      <td>0.096465</td>\n",
       "      <td>0.053001</td>\n",
       "      <td>0.731343</td>\n",
       "      <td>0.275294</td>\n",
       "      <td>0.451613</td>\n",
       "      <td>0.096465</td>\n",
       "      <td>0.479931</td>\n",
       "      <td>0.170375</td>\n",
       "    </tr>\n",
       "  </tbody>\n",
       "</table>\n",
       "<p>2100 rows × 20 columns</p>\n",
       "</div>"
      ],
      "text/plain": [
       "      CLASS  REGION-CENTROID-COL  REGION-CENTROID-ROW  REGION-PIXEL-COUNT  \\\n",
       "0       1.0             0.430830             0.741667                 0.0   \n",
       "1       1.0             0.335968             0.733333                 0.0   \n",
       "2       1.0             0.885375             0.970833                 0.0   \n",
       "3       1.0             0.181818             0.920833                 0.0   \n",
       "4       1.0             0.379447             0.729167                 0.0   \n",
       "...     ...                  ...                  ...                 ...   \n",
       "2095    0.5             0.122530             0.612500                 0.0   \n",
       "2096    0.5             0.027668             0.629167                 0.0   \n",
       "2097    0.5             0.501976             0.625000                 0.0   \n",
       "2098    0.5             0.588933             0.612500                 0.0   \n",
       "2099    0.5             0.486166             0.629167                 0.0   \n",
       "\n",
       "      SHORT-LINE-DENSITY-5  SHORT-LINE-DENSITY-2  VEDGE-MEAN  VEDGE-SD  \\\n",
       "0                 0.000000                   0.0    0.034221  0.000672   \n",
       "1                 0.000000                   0.0    0.038023  0.000726   \n",
       "2                 0.000000                   0.0    0.115970  0.002213   \n",
       "3                 0.000000                   0.0    0.043726  0.001265   \n",
       "4                 0.000000                   0.0    0.039924  0.000697   \n",
       "...                    ...                   ...         ...       ...   \n",
       "2095              0.000000                   0.0    0.032319  0.000870   \n",
       "2096              0.333333                   0.0    0.055133  0.002080   \n",
       "2097              0.000000                   0.0    0.019011  0.000254   \n",
       "2098              0.000000                   0.0    0.074145  0.001647   \n",
       "2099              0.333333                   0.0    0.047529  0.001139   \n",
       "\n",
       "      HEDGE-MEAN  HEDGE-SD  INTENSITY-MEAN  RAWRED-MEAN  RAWBLUE-MEAN  \\\n",
       "0       0.027329  0.000856        0.090111     0.079417      0.061119   \n",
       "1       0.032298  0.000541        0.095791     0.085089      0.068483   \n",
       "2       0.067081  0.001097        0.085463     0.075365      0.061856   \n",
       "3       0.022360  0.000645        0.088562     0.080227      0.059647   \n",
       "4       0.026087  0.000725        0.108701     0.101297      0.078056   \n",
       "...          ...       ...             ...          ...           ...   \n",
       "2095    0.018634  0.000441        0.055513     0.046191      0.078792   \n",
       "2096    0.007453  0.000096        0.058353     0.048622      0.079529   \n",
       "2097    0.017391  0.000118        0.049832     0.040519      0.072165   \n",
       "2098    0.031056  0.000302        0.058869     0.051053      0.081001   \n",
       "2099    0.044720  0.000641        0.069972     0.058347      0.096465   \n",
       "\n",
       "      RAWGREEN-MEAN  EXRED-MEAN  EXBLUE-MEAN  EXGREEN-MEAN  VALUE-MEAN  \\\n",
       "0          0.130943    0.731343     0.014118      0.872865    0.123711   \n",
       "1          0.134840    0.729478     0.023529      0.859583    0.127393   \n",
       "2          0.120031    0.736940     0.038824      0.827324    0.113402   \n",
       "3          0.127046    0.748134     0.014118      0.855787    0.120029   \n",
       "4          0.148090    0.748134     0.010588      0.861480    0.139912   \n",
       "...             ...         ...          ...           ...         ...   \n",
       "2095       0.039751    0.751866     0.256471      0.461101    0.078792   \n",
       "2096       0.045207    0.748134     0.247059      0.480076    0.079529   \n",
       "2097       0.035074    0.753731     0.250588      0.468691    0.072165   \n",
       "2098       0.042868    0.761194     0.251765      0.459203    0.081001   \n",
       "2099       0.053001    0.731343     0.275294      0.451613    0.096465   \n",
       "\n",
       "      SATURATION-MEAN  HUE-MEAN  \n",
       "0            0.508139  0.831849  \n",
       "1            0.463329  0.836986  \n",
       "2            0.480149  0.844782  \n",
       "3            0.500966  0.825889  \n",
       "4            0.442661  0.823924  \n",
       "...               ...       ...  \n",
       "2095         0.520578  0.178177  \n",
       "2096         0.484805  0.167750  \n",
       "2097         0.540918  0.175915  \n",
       "2098         0.503086  0.184789  \n",
       "2099         0.479931  0.170375  \n",
       "\n",
       "[2100 rows x 20 columns]"
      ]
     },
     "execution_count": 11,
     "metadata": {},
     "output_type": "execute_result"
    }
   ],
   "source": [
    "df_MinMax"
   ]
  },
  {
   "cell_type": "markdown",
   "metadata": {},
   "source": []
  },
  {
   "cell_type": "markdown",
   "metadata": {},
   "source": [
    "# Gráficos"
   ]
  },
  {
   "cell_type": "code",
   "execution_count": null,
   "metadata": {},
   "outputs": [],
   "source": []
  },
  {
   "cell_type": "code",
   "execution_count": 12,
   "metadata": {},
   "outputs": [],
   "source": [
    "import matplotlib.pyplot as plt"
   ]
  },
  {
   "cell_type": "code",
   "execution_count": 13,
   "metadata": {},
   "outputs": [
    {
     "data": {
      "text/plain": [
       "Text(0.5, 0, 'SATURATION')"
      ]
     },
     "execution_count": 13,
     "metadata": {},
     "output_type": "execute_result"
    },
    {
     "data": {
      "image/png": "[encoded data removed]",
      "text/plain": [
       "<Figure size 640x480 with 1 Axes>"
      ]
     },
     "metadata": {},
     "output_type": "display_data"
    }
   ],
   "source": [
    "plt.rcParams.update({'font.size': 14})\n",
    "plt.scatter(dados['SATURATION-MEAN'],dados['CLASS'])\n",
    "plt.ylabel('Class')\n",
    "plt.xlabel('SATURATION')"
   ]
  },
  {
   "cell_type": "code",
   "execution_count": 14,
   "metadata": {},
   "outputs": [
    {
     "data": {
      "image/png": "[encoded data removed]",
      "text/plain": [
       "<Figure size 640x480 with 1 Axes>"
      ]
     },
     "metadata": {},
     "output_type": "display_data"
    }
   ],
   "source": [
    "plt.scatter(dados['INTENSITY-MEAN'],dados['CLASS'])\n",
    "plt.ylabel('CLASS')\n",
    "plt.xlabel('INTENSITY')\n",
    "plt.rcParams.update({'font.size': 22})\n"
   ]
  },
  {
   "cell_type": "markdown",
   "metadata": {},
   "source": [
    "### Normalizando a base de dados"
   ]
  },
  {
   "cell_type": "code",
   "execution_count": 15,
   "metadata": {},
   "outputs": [],
   "source": [
    "import numpy as np"
   ]
  },
  {
   "cell_type": "code",
   "execution_count": 16,
   "metadata": {},
   "outputs": [
    {
     "name": "stdout",
     "output_type": "stream",
     "text": [
      "[[0.43083004 0.74166667 0.         ... 0.12371135 0.50813884 0.83184923]\n",
      " [0.33596838 0.73333333 0.         ... 0.12739322 0.46332908 0.83698646]\n",
      " [0.88537549 0.97083333 0.         ... 0.11340205 0.48014903 0.84478233]\n",
      " ...\n",
      " [0.50197628 0.625      0.         ... 0.07216495 0.5409177  0.17591546]\n",
      " [0.58893281 0.6125     0.         ... 0.08100147 0.50308645 0.18478933]\n",
      " [0.48616601 0.62916667 0.         ... 0.09646539 0.4799313  0.17037463]]\n"
     ]
    }
   ],
   "source": [
    "y = df_MinMax['CLASS'].values\n",
    "X= df_MinMax[['REGION-CENTROID-COL',\t'REGION-CENTROID-ROW'\t,'REGION-PIXEL-COUNT',\t'SHORT-LINE-DENSITY-5',\t'SHORT-LINE-DENSITY-2',\t'VEDGE-MEAN',\t'VEDGE-SD',\t'HEDGE-MEAN',\t'HEDGE-SD','INTENSITY-MEAN'\t,\t'RAWRED-MEAN',\t'RAWBLUE-MEAN',\t'RAWGREEN-MEAN',\t'EXRED-MEAN',\t'EXBLUE-MEAN'\t,'EXGREEN-MEAN',\t'VALUE-MEAN','SATURATION-MEAN', 'HUE-MEAN']].values\n",
    "print(X)"
   ]
  },
  {
   "cell_type": "code",
   "execution_count": 17,
   "metadata": {},
   "outputs": [
    {
     "name": "stdout",
     "output_type": "stream",
     "text": [
      "[1.  1.  1.  ... 0.5 0.5 0.5]\n"
     ]
    }
   ],
   "source": [
    "\n",
    "print(y)"
   ]
  },
  {
   "cell_type": "code",
   "execution_count": null,
   "metadata": {},
   "outputs": [],
   "source": []
  },
  {
   "cell_type": "code",
   "execution_count": 18,
   "metadata": {},
   "outputs": [],
   "source": [
    "ymax=np.amax(y)\n"
   ]
  },
  {
   "cell_type": "markdown",
   "metadata": {},
   "source": [
    "### Funções de ativação"
   ]
  },
  {
   "cell_type": "code",
   "execution_count": 19,
   "metadata": {},
   "outputs": [],
   "source": [
    "def sigmoid(Soma):\n",
    "    return 1/(1+np.exp(-Soma))\n",
    "\n",
    "def relu(Soma):\n",
    "    return np.maximum(0,Soma)"
   ]
  },
  {
   "cell_type": "markdown",
   "metadata": {},
   "source": [
    "### Criando a estrutura da rede"
   ]
  },
  {
   "cell_type": "code",
   "execution_count": 20,
   "metadata": {},
   "outputs": [],
   "source": [
    "arquitetura = [\n",
    "    {\"dim_entrada\": 19, \"dim_saida\": 13, \"ativacao\": \"relu\"},\n",
    "    {\"dim_entrada\": 13, \"dim_saida\": 7, \"ativacao\": \"sigmoid\"},\n",
    "]"
   ]
  },
  {
   "cell_type": "code",
   "execution_count": 21,
   "metadata": {},
   "outputs": [
    {
     "data": {
      "text/plain": [
       "[{'dim_entrada': 19, 'dim_saida': 13, 'ativacao': 'relu'},\n",
       " {'dim_entrada': 13, 'dim_saida': 7, 'ativacao': 'sigmoid'}]"
      ]
     },
     "execution_count": 21,
     "metadata": {},
     "output_type": "execute_result"
    }
   ],
   "source": [
    "arquitetura"
   ]
  },
  {
   "cell_type": "markdown",
   "metadata": {},
   "source": [
    "### Pesos e viés"
   ]
  },
  {
   "cell_type": "code",
   "execution_count": 22,
   "metadata": {},
   "outputs": [],
   "source": [
    "def inicia_camadas(arquitetura, seed = 99):\n",
    "    # inicia os valores aleatórios\n",
    "    np.random.seed(seed)\n",
    "    # numero de camadas da rede neural\n",
    "    numero_de_camadas = len(arquitetura)\n",
    "    # inicia armazenamento de parametros\n",
    "    valores_parametros = {}\n",
    "    \n",
    "    # itera nas camadas da rede\n",
    "    for indice, camada in enumerate(arquitetura):\n",
    "        \n",
    "        indice_camada = indice + 1\n",
    "        \n",
    "        # extrai o numero de nodos nas camadas\n",
    "        tamanho_camada_entrada = camada[\"dim_entrada\"]\n",
    "        tamanho_camada_saida = camada[\"dim_saida\"]\n",
    "        \n",
    "        # inicia os valores na matriz de pesos P\n",
    "        # e o vetor de viés ou bias b\n",
    "        valores_parametros['P' + str(indice_camada)] = np.random.randn(\n",
    "            tamanho_camada_saida, tamanho_camada_entrada)  * 0.1\n",
    "        valores_parametros['b' + str(indice_camada)] = np.random.randn(\n",
    "            tamanho_camada_saida, 1) * 0.1\n",
    "        \n",
    "    return valores_parametros"
   ]
  },
  {
   "cell_type": "markdown",
   "metadata": {},
   "source": [
    "### Propagação da rede"
   ]
  },
  {
   "cell_type": "code",
   "execution_count": 23,
   "metadata": {},
   "outputs": [
    {
     "name": "stderr",
     "output_type": "stream",
     "text": [
      "<>:6: SyntaxWarning: \"is\" with a literal. Did you mean \"==\"?\n",
      "<>:8: SyntaxWarning: \"is\" with a literal. Did you mean \"==\"?\n",
      "<>:6: SyntaxWarning: \"is\" with a literal. Did you mean \"==\"?\n",
      "<>:8: SyntaxWarning: \"is\" with a literal. Did you mean \"==\"?\n",
      "C:\\Users\\Mauricio\\AppData\\Local\\Temp\\ipykernel_2288\\3384138289.py:6: SyntaxWarning: \"is\" with a literal. Did you mean \"==\"?\n",
      "  if ativacao is \"relu\":\n",
      "C:\\Users\\Mauricio\\AppData\\Local\\Temp\\ipykernel_2288\\3384138289.py:8: SyntaxWarning: \"is\" with a literal. Did you mean \"==\"?\n",
      "  elif ativacao is \"sigmoid\":\n"
     ]
    }
   ],
   "source": [
    "def propaga_uma_camada(Ativado_anterior, Pesos_atual, b_atual, ativacao=\"relu\"):\n",
    "    # cálculo da entrada para a função de ativação\n",
    "    Saida_atual = np.dot(Pesos_atual, Ativado_anterior) + b_atual\n",
    "    \n",
    "    # selecção da função de ativação\n",
    "    if ativacao is \"relu\":\n",
    "        func_ativacao = relu\n",
    "    elif ativacao is \"sigmoid\":\n",
    "        func_ativacao = sigmoid\n",
    "    else:\n",
    "        raise Exception('Ainda não implementamos essa funcao')\n",
    "        \n",
    "    # retorna a ativação calculada Ativado_atual e a matriz intermediária Saida\n",
    "    return func_ativacao(Saida_atual), Saida_atual"
   ]
  },
  {
   "cell_type": "code",
   "execution_count": 24,
   "metadata": {},
   "outputs": [],
   "source": [
    "def propaga_total(X, valores_parametros, arquitetura):\n",
    "    # memoria temporaria para a retropropagacao\n",
    "    memoria = {}\n",
    "    # O vetor X é a ativação para a camada 0 \n",
    "    Ativado_atual = X\n",
    "    \n",
    "    # iterações para as camadas\n",
    "    for indice, camada in enumerate(arquitetura):\n",
    "        # a numeração das camadas começa de 1\n",
    "        indice_camada = indice + 1\n",
    "        # utiliza a ativação da iteração anterior\n",
    "        Ativado_anterior = Ativado_atual\n",
    "        \n",
    "        # extrai a função de ativação para a camada atual\n",
    "        func_ativacao_atual = camada[\"ativacao\"]\n",
    "        # extrai os pesos da camada atual\n",
    "        Pesos_atual = valores_parametros[\"P\" + str(indice_camada)]\n",
    "        # extrai o bias para a camada atual\n",
    "        b_atual = valores_parametros[\"b\" + str(indice_camada)]\n",
    "        # cálculo da ativação para a camada atual\n",
    "        Ativado_atual, Saida_atual = propaga_uma_camada(Ativado_anterior, Pesos_atual, b_atual, func_ativacao_atual)\n",
    "        \n",
    "        # salca os valores calculados na memória\n",
    "        memoria[\"A\" + str(indice)] = Ativado_anterior\n",
    "        memoria[\"Z\" + str(indice_camada)] = Saida_atual\n",
    "       \n",
    "    # retorna o vetor predito e um dicionário contendo os valores intermediários\n",
    "    return Ativado_atual, memoria"
   ]
  },
  {
   "cell_type": "markdown",
   "metadata": {},
   "source": [
    "### Testando a rede"
   ]
  },
  {
   "cell_type": "code",
   "execution_count": 25,
   "metadata": {},
   "outputs": [],
   "source": [
    "valores_parametros = inicia_camadas(arquitetura, seed = 99)\n",
    "y_estimado, memoria = propaga_total(np.transpose(X), valores_parametros, arquitetura)"
   ]
  },
  {
   "cell_type": "code",
   "execution_count": 26,
   "metadata": {},
   "outputs": [
    {
     "data": {
      "text/plain": [
       "0.4907805850174999"
      ]
     },
     "execution_count": 26,
     "metadata": {},
     "output_type": "execute_result"
    }
   ],
   "source": [
    "y_estimado[0,0]*ymax"
   ]
  },
  {
   "cell_type": "code",
   "execution_count": 27,
   "metadata": {},
   "outputs": [
    {
     "data": {
      "text/plain": [
       "1.0"
      ]
     },
     "execution_count": 27,
     "metadata": {},
     "output_type": "execute_result"
    }
   ],
   "source": [
    "y[0]*ymax"
   ]
  },
  {
   "cell_type": "markdown",
   "metadata": {},
   "source": [
    "### Atualização dos pesos"
   ]
  },
  {
   "cell_type": "code",
   "execution_count": 28,
   "metadata": {},
   "outputs": [],
   "source": [
    "def atualiza(valores_parametros, gradidentes, arquitetura, taxa_aprendizagem):\n",
    "\n",
    "    # iterações pelas camadas\n",
    "    for indice_camada, camada in enumerate(arquitetura, 1):\n",
    "        valores_parametros[\"P\" + str(indice_camada)] -= taxa_aprendizagem * gradidentes[\"dP\" + str(indice_camada)]        \n",
    "        valores_parametros[\"b\" + str(indice_camada)] -= taxa_aprendizagem * gradidentes[\"db\" + str(indice_camada)]\n",
    "\n",
    "    return valores_parametros;"
   ]
  },
  {
   "cell_type": "markdown",
   "metadata": {},
   "source": [
    "### Função de custo"
   ]
  },
  {
   "cell_type": "code",
   "execution_count": 29,
   "metadata": {},
   "outputs": [],
   "source": [
    "def valor_de_custo(Y_predito, Y):\n",
    "    # numero_de_exemplos\n",
    "    m = Y_predito.shape[1]\n",
    "    \n",
    "    custo = -1 / m * (np.dot(Y, np.log(Y_predito).T) + np.dot(1 - Y, np.log(1 - Y_predito).T))\n",
    "    return np.squeeze(custo)"
   ]
  },
  {
   "cell_type": "markdown",
   "metadata": {},
   "source": [
    "### Retropropagação"
   ]
  },
  {
   "cell_type": "code",
   "execution_count": 30,
   "metadata": {},
   "outputs": [],
   "source": [
    "def retropropagacao_total(Y_predito, Y, memoria, valores_parametros, arquitetura):\n",
    "   \n",
    "    gradientes = {}\n",
    "    \n",
    "    # numero de exemplos\n",
    "    #m = Y.shape[1]\n",
    "    # para garantir que os dois vetores tenham a mesma dimensão\n",
    "    print(\"Y.shape=\",Y.shape)\n",
    "    print(\"Y_predito_shape=\",Y_predito.shape)\n",
    "    Y = Y.reshape(Y_predito.shape)\n",
    "    \n",
    "    # inicia o algoritmo de gradiente descendente\n",
    "    dAtivado_anterior = - (np.divide(Y, Y_predito) - np.divide(1 - Y, 1 - Y_predito));\n",
    "    \n",
    "    for indice_camada_anterior, camada in reversed(list(enumerate(arquitetura))):\n",
    "        \n",
    "        indice_camada_atual = indice_camada_anterior + 1\n",
    "        # Função de ativação para a camada atual\n",
    "        \n",
    "        funcao_ativao_atual = camada[\"ativacao\"]\n",
    "        \n",
    "        dAtivado_atual = dAtivado_anterior\n",
    "        \n",
    "        Ativado_anterior = memoria[\"A\" + str(indice_camada_anterior)]\n",
    "        Saida_atual = memoria[\"Z\" + str(indice_camada_atual)]\n",
    "        \n",
    "        Pesos_atual = valores_parametros[\"P\" + str(indice_camada_atual)]\n",
    "        b_atual = valores_parametros[\"b\" + str(indice_camada_atual)]\n",
    "        \n",
    "        dAtivado_anterior, dPesos_atual, db_atual = retropropagacao_uma_camada(\n",
    "            dAtivado_atual, Pesos_atual, b_atual, Saida_atual, Ativado_anterior, funcao_ativao_atual)\n",
    "        \n",
    "        gradientes[\"dP\" + str(indice_camada_atual)] = dPesos_atual\n",
    "        gradientes[\"db\" + str(indice_camada_atual)] = db_atual\n",
    "    \n",
    "    return gradientes"
   ]
  },
  {
   "cell_type": "code",
   "execution_count": 31,
   "metadata": {},
   "outputs": [],
   "source": [
    "def sigmoid_retro(dAtivado, Saida):\n",
    "    sig = sigmoid(Saida)\n",
    "    return dAtivado * sig * (1 - sig)\n",
    "\n",
    "def relu_retro(dAtivado, Saida):\n",
    "    dSaida = np.array(dAtivado, copy = True)\n",
    "    dSaida[Saida <= 0] = 0;\n",
    "    return dSaida;"
   ]
  },
  {
   "cell_type": "code",
   "execution_count": 32,
   "metadata": {},
   "outputs": [
    {
     "name": "stderr",
     "output_type": "stream",
     "text": [
      "<>:6: SyntaxWarning: \"is\" with a literal. Did you mean \"==\"?\n",
      "<>:8: SyntaxWarning: \"is\" with a literal. Did you mean \"==\"?\n",
      "<>:6: SyntaxWarning: \"is\" with a literal. Did you mean \"==\"?\n",
      "<>:8: SyntaxWarning: \"is\" with a literal. Did you mean \"==\"?\n",
      "C:\\Users\\Mauricio\\AppData\\Local\\Temp\\ipykernel_2288\\2042251569.py:6: SyntaxWarning: \"is\" with a literal. Did you mean \"==\"?\n",
      "  if ativacao is \"relu\":\n",
      "C:\\Users\\Mauricio\\AppData\\Local\\Temp\\ipykernel_2288\\2042251569.py:8: SyntaxWarning: \"is\" with a literal. Did you mean \"==\"?\n",
      "  elif ativacao is \"sigmoid\":\n"
     ]
    }
   ],
   "source": [
    "def retropropagacao_uma_camada(dAtivado_atual, Pesos_atual, b_atual, Saida_atual, Ativado_anterior, ativacao=\"relu\"):\n",
    "    # número de exemplos\n",
    "    m = Ativado_anterior.shape[1]\n",
    "    \n",
    "    # seleção função de ativação\n",
    "    if ativacao is \"relu\":\n",
    "        func_ativacao_retro = relu_retro\n",
    "    elif ativacao is \"sigmoid\":\n",
    "        func_ativacao_retro = sigmoid_retro\n",
    "    else:\n",
    "        raise Exception('Ainda não implementamos essa funcao')\n",
    "    \n",
    "    # derivada da função de ativação\n",
    "    dSaida_atual = func_ativacao_retro(dAtivado_atual, Saida_atual)\n",
    "    \n",
    "    # derivada da matriz de Pesos\n",
    "    dPesos_atual = np.dot(dSaida_atual, Ativado_anterior.T) / m\n",
    "    # derivada do vetor b\n",
    "    db_atual = np.sum(dSaida_atual, axis=1, keepdims=True) / m\n",
    "    # derivada da matriz A_anterior\n",
    "    dAtivado_anterior = np.dot(Pesos_atual.T, dSaida_atual)\n",
    "\n",
    "    return dAtivado_anterior, dPesos_atual, db_atual"
   ]
  },
  {
   "cell_type": "markdown",
   "metadata": {},
   "source": [
    "### Treinamento"
   ]
  },
  {
   "cell_type": "code",
   "execution_count": 33,
   "metadata": {},
   "outputs": [],
   "source": [
    "def treino(X, Y,X_teste,Y_teste, arquitetura, epocas, taxa_aprendizagem):\n",
    "    # Inicia os parâmetros da rede neural\n",
    "    valores_parametros = inicia_camadas(arquitetura, 2)\n",
    "    # Listas que vão guardar o progresso da aprendizagem da rede \n",
    "    historia_custo = []\n",
    "    historia_custo_teste = []\n",
    "   \n",
    "    \n",
    "    # Atualiza a cada época\n",
    "    for i in range(epocas):\n",
    "        # Propaga a rede - Foward propagation\n",
    "        Y_predito, memoria = propaga_total(X, valores_parametros, arquitetura)\n",
    "        \n",
    "        Y_predito_teste, memoria2 = propaga_total(X_teste, valores_parametros, \n",
    "                                                  arquitetura)\n",
    "        \n",
    "        # calcula as métricas e salva nas listas de história\n",
    "        custo = valor_de_custo(Y_predito, Y)\n",
    "        historia_custo.append(custo)\n",
    "        custo_teste = valor_de_custo(Y_predito_teste, Y_teste)\n",
    "        historia_custo_teste.append(custo_teste)\n",
    "        \n",
    "        \n",
    "        # Retropropagação - Backpropagation\n",
    "        gradientes = retropropagacao_total(Y_predito, Y, memoria, \n",
    "                                           valores_parametros, arquitetura)\n",
    "        # Atualiza os pesos\n",
    "        valores_parametros = atualiza(valores_parametros, gradientes, \n",
    "                                      arquitetura, taxa_aprendizagem)\n",
    "        \n",
    "        if(i % 50 == 0):\n",
    "            \n",
    "            print(\"Iteração: {:05} - custo: {:.5f} \".format(i, custo))\n",
    "            \n",
    "            \n",
    "    return valores_parametros, historia_custo, historia_custo_teste"
   ]
  },
  {
   "cell_type": "code",
   "execution_count": 34,
   "metadata": {},
   "outputs": [],
   "source": [
    "from sklearn.model_selection import train_test_split"
   ]
  },
  {
   "cell_type": "code",
   "execution_count": 35,
   "metadata": {},
   "outputs": [],
   "source": [
    "X_treino, X_teste, y_treino, y_teste = train_test_split( X, y, test_size=0.43, random_state=42)"
   ]
  },
  {
   "cell_type": "code",
   "execution_count": 36,
   "metadata": {},
   "outputs": [
    {
     "ename": "ValueError",
     "evalue": "cannot reshape array of size 1197 into shape (1197,7)",
     "output_type": "error",
     "traceback": [
      "\u001b[1;31m---------------------------------------------------------------------------\u001b[0m",
      "\u001b[1;31mValueError\u001b[0m                                Traceback (most recent call last)",
      "Cell \u001b[1;32mIn [36], line 2\u001b[0m\n\u001b[0;32m      1\u001b[0m \u001b[39m# Treinamento\u001b[39;00m\n\u001b[1;32m----> 2\u001b[0m valores_parametros, historia_custo, historia_custo_teste \u001b[39m=\u001b[39m treino(np\u001b[39m.\u001b[39mtranspose(X_treino), np\u001b[39m.\u001b[39mtranspose(y_treino\u001b[39m.\u001b[39;49mreshape((y_treino\u001b[39m.\u001b[39;49mshape[\u001b[39m0\u001b[39;49m], \u001b[39m7\u001b[39;49m))), \n\u001b[0;32m      3\u001b[0m                                                                   np\u001b[39m.\u001b[39mtranspose(X_teste), np\u001b[39m.\u001b[39mtranspose(y_teste\u001b[39m.\u001b[39mreshape((y_teste\u001b[39m.\u001b[39mshape[\u001b[39m0\u001b[39m], \u001b[39m7\u001b[39m))), \n\u001b[0;32m      4\u001b[0m                                                                   arquitetura, \u001b[39m20000\u001b[39m, \u001b[39m0.01\u001b[39m)\n",
      "\u001b[1;31mValueError\u001b[0m: cannot reshape array of size 1197 into shape (1197,7)"
     ]
    }
   ],
   "source": [
    "# Treinamento\n",
    "valores_parametros, historia_custo, historia_custo_teste = treino(np.transpose(X_treino), np.transpose(y_treino.reshape((y_treino.shape[0], 7))), \n",
    "                                                                  np.transpose(X_teste), np.transpose(y_teste.reshape((y_teste.shape[0], 7))), \n",
    "                                                                  arquitetura, 20000, 0.01)"
   ]
  },
  {
   "cell_type": "code",
   "execution_count": null,
   "metadata": {},
   "outputs": [
    {
     "data": {
      "image/png": "[encoded data removed]",
      "text/plain": [
       "<Figure size 432x288 with 1 Axes>"
      ]
     },
     "metadata": {
      "needs_background": "light"
     },
     "output_type": "display_data"
    }
   ],
   "source": [
    "plt.plot(historia_custo)\n",
    "plt.plot(historia_custo_teste, 'r')\n",
    "plt.legend(['Treinamento','Teste'])\n",
    "plt.ylabel('Custo')\n",
    "plt.xlabel('Épocas')\n",
    "plt.show()"
   ]
  },
  {
   "cell_type": "markdown",
   "metadata": {},
   "source": [
    "### Fazendo Previsões"
   ]
  },
  {
   "cell_type": "code",
   "execution_count": null,
   "metadata": {},
   "outputs": [],
   "source": [
    "# Previsão\n",
    "Y_pred, _ = propaga_total(np.transpose(X_teste), valores_parametros, arquitetura)"
   ]
  },
  {
   "cell_type": "code",
   "execution_count": null,
   "metadata": {},
   "outputs": [
    {
     "data": {
      "image/png": "[encoded data removed]",
      "text/plain": [
       "<Figure size 432x288 with 1 Axes>"
      ]
     },
     "metadata": {
      "needs_background": "light"
     },
     "output_type": "display_data"
    }
   ],
   "source": [
    "plt.plot(np.transpose(X_teste)[1],ymax*y_teste,'.')\n",
    "plt.plot(np.transpose(X_teste)[1],ymax*Y_pred.reshape([-1,1]),'.r')\n",
    "plt.legend(['Reais','Preditos'])\n",
    "plt.ylabel('bicicletas_alugadas')\n",
    "plt.xlabel('temperatura')\n",
    "plt.show()"
   ]
  },
  {
   "cell_type": "code",
   "execution_count": null,
   "metadata": {},
   "outputs": [
    {
     "data": {
      "image/png": "[encoded data removed]",
      "text/plain": [
       "<Figure size 432x288 with 1 Axes>"
      ]
     },
     "metadata": {
      "needs_background": "light"
     },
     "output_type": "display_data"
    }
   ],
   "source": [
    "plt.plot(3*np.transpose(X_teste)[0],ymax*y_teste,'.')\n",
    "plt.plot(3*np.transpose(X_teste)[0],ymax*Y_pred.reshape([-1,1]),'.r')\n",
    "plt.legend(['Reais','Preditos'])\n",
    "plt.ylabel('bicicletas_alugadas')\n",
    "plt.xlabel('clima')\n",
    "plt.rcParams.update({'font.size': 22})\n",
    "indice=[1,2,3]\n",
    "plt.xticks(indice, fontsize=14)\n",
    "plt.show()"
   ]
  },
  {
   "cell_type": "code",
   "execution_count": null,
   "metadata": {},
   "outputs": [],
   "source": []
  },
  {
   "cell_type": "code",
   "execution_count": null,
   "metadata": {},
   "outputs": [],
   "source": []
  }
 ],
 "metadata": {
  "kernelspec": {
   "display_name": "Python 3.9.7 64-bit",
   "language": "python",
   "name": "python3"
  },
  "language_info": {
   "codemirror_mode": {
    "name": "ipython",
    "version": 3
   },
   "file_extension": ".py",
   "mimetype": "text/x-python",
   "name": "python",
   "nbconvert_exporter": "python",
   "pygments_lexer": "ipython3",
   "version": "3.9.7"
  },
  "vscode": {
   "interpreter": {
    "hash": "09ae61c9c575b6ce542c2a658a8f4f3546e2ab010aea658e85c28f29deb099ac"
   }
  }
 },
 "nbformat": 4,
 "nbformat_minor": 2
}
